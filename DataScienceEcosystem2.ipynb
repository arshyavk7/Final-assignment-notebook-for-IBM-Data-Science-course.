{
 "cells": [
  {
   "cell_type": "markdown",
   "id": "e03698c8-2297-4db0-af7b-bfe312a71f46",
   "metadata": {},
   "source": [
    "# Data Science Tools and Ecosystem\n"
   ]
  },
  {
   "cell_type": "markdown",
   "id": "f7caba47-b1ed-441d-98b9-7b6ab5b6e817",
   "metadata": {},
   "source": [
    "This notebook summarizes popular Data Science tools and the ecosystem around data science.\n"
   ]
  },
  {
   "cell_type": "markdown",
   "id": "ba47a23f-2096-4520-9c7b-6fe94fb4785b",
   "metadata": {
    "editable": true,
    "slideshow": {
     "slide_type": ""
    },
    "tags": []
   },
   "source": [
    "Some of the popular languages that Data Scientists use are:\n",
    "\n",
    "1. Python  \n",
    "2. R  \n",
    "3. SQL  \n",
    "4. Scala  \n",
    "5. Java  \n",
    "6. C++  \n",
    "7. Julia  \n",
    "8. JavaScript  \n",
    "9. PHP  \n",
    "10. Go  \n",
    "11. Ruby  \n",
    "12. Visual Basic\n"
   ]
  },
  {
   "cell_type": "markdown",
   "id": "d29b2835-9b10-467f-abf8-c703e7637280",
   "metadata": {},
   "source": [
    "Some of the commonly used libraries used by Data Scientists include:\n",
    "\n",
    "1. Pandas  \n",
    "2. Numpy  \n",
    "3. Matplotlib  \n",
    "4. Seaborn  \n",
    "5. Scikit-learn  \n",
    "6. Keras  \n",
    "7. TensorFlow  \n",
    "8. PyTorch  \n",
    "9. Apache Spark  \n",
    "10. Vegas  \n",
    "11. Big DL  \n",
    "12. Ggplot2\n"
   ]
  },
  {
   "cell_type": "markdown",
   "id": "d36fd5b2-fe2b-4f40-b426-9b35ab3f3019",
   "metadata": {},
   "source": [
    "| Data Science Tools |\n",
    "|--------------------|\n",
    "| RStudio            |\n",
    "| Apache Zeppelin    |\n",
    "| JupyterLab         |\n"
   ]
  },
  {
   "cell_type": "markdown",
   "id": "85efc8e8-1692-4643-b45b-fbd4be98a1f6",
   "metadata": {},
   "source": [
    "### Below are a few examples of evaluating arithmetic expressions in Python.\n"
   ]
  },
  {
   "cell_type": "code",
   "execution_count": 6,
   "id": "4eca6fd0-d74b-44a5-a5cf-43ab711c0072",
   "metadata": {},
   "outputs": [
    {
     "data": {
      "text/plain": [
       "17"
      ]
     },
     "execution_count": 6,
     "metadata": {},
     "output_type": "execute_result"
    }
   ],
   "source": [
    "# This is a simple arithmetic expression to multiply then add integers\n",
    "(3*4)+5\n"
   ]
  },
  {
   "cell_type": "code",
   "execution_count": 7,
   "id": "42698d90-9308-4c14-921a-d2886d886b3a",
   "metadata": {},
   "outputs": [
    {
     "data": {
      "text/plain": [
       "3.3333333333333335"
      ]
     },
     "execution_count": 7,
     "metadata": {},
     "output_type": "execute_result"
    }
   ],
   "source": [
    "# This will convert 200 minutes to hours by dividing by 60\n",
    "200 / 60\n"
   ]
  },
  {
   "cell_type": "markdown",
   "id": "013f50fc-de57-4c65-bfaa-87dda30d7c7f",
   "metadata": {},
   "source": [
    "**Objectives:**\n",
    "- List popular languages for Data Science  \n",
    "- List commonly used libraries  \n",
    "- Demonstrate basic arithmetic expressions  \n",
    "- Create tables and lists in markdown  \n"
   ]
  },
  {
   "cell_type": "markdown",
   "id": "5c6b36fe-afe3-4959-b755-598d0ab394a9",
   "metadata": {},
   "source": [
    "## Author  \n",
    "Arshya VK\n"
   ]
  },
  {
   "cell_type": "code",
   "execution_count": null,
   "id": "fa156393-0a39-49a1-b51b-1d711da05026",
   "metadata": {},
   "outputs": [],
   "source": []
  }
 ],
 "metadata": {
  "kernelspec": {
   "display_name": "Python 3 (ipykernel)",
   "language": "python",
   "name": "python3"
  },
  "language_info": {
   "codemirror_mode": {
    "name": "ipython",
    "version": 3
   },
   "file_extension": ".py",
   "mimetype": "text/x-python",
   "name": "python",
   "nbconvert_exporter": "python",
   "pygments_lexer": "ipython3",
   "version": "3.12.8"
  }
 },
 "nbformat": 4,
 "nbformat_minor": 5
}
